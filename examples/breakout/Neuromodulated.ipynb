{
 "cells": [
  {
   "cell_type": "code",
   "execution_count": null,
   "id": "a80771a6-dd7d-486f-8714-30208b083a52",
   "metadata": {},
   "outputs": [],
   "source": [
    "import spynnaker8 as p\n",
    "from spinn_gym.games.breakout.visualise_jupyter import jupyter_visualiser\n",
    "from spinn_gym.games.breakout.neuromodulated_breakout import (\n",
    "    NeuromodulatedBreakout, X_RES, X_SCALE, Y_RES, Y_SCALE)\n",
    "\n",
    "# ----------------------------------------------------------------------------------------------------------------------\n",
    "# Initialise Simulation and Parameters\n",
    "# ----------------------------------------------------------------------------------------------------------------------\n",
    "\n",
    "breakout = NeuromodulatedBreakout()\n",
    "\n",
    "# ----------------------------------------------------------------------------------------------------------------------\n",
    "# Configure Visualiser\n",
    "# ----------------------------------------------------------------------------------------------------------------------\n",
    "jupyter_visualiser(breakout, X_RES, X_SCALE, Y_RES, Y_SCALE,\n",
    "                   [breakout.paddle_pop, breakout.ball_x_pop, breakout.ball_y_pop, \n",
    "                    breakout.left_hidden_pop, breakout.right_hidden_pop, breakout.decision_input_pop])"
   ]
  },
  {
   "cell_type": "code",
   "execution_count": null,
   "id": "b773ca01-07fc-4737-b7a7-6f0d2df8fe7a",
   "metadata": {},
   "outputs": [],
   "source": [
    "# ----------------------------------------------------------------------------------------------------------------------\n",
    "# Run Simulation\n",
    "# ----------------------------------------------------------------------------------------------------------------------\n",
    "runtime = 1000 * 10\n",
    "print(\"\\nLet\\'s play breakout!\")\n",
    "p.run(runtime)\n",
    "p.end()\n",
    "print(\"Simulation Complete\")"
   ]
  },
  {
   "cell_type": "code",
   "execution_count": null,
   "id": "6f451bc7-9dbb-4dcc-be09-80aaa4902264",
   "metadata": {},
   "outputs": [],
   "source": []
  },
  {
   "cell_type": "code",
   "execution_count": null,
   "id": "6520eb37-d110-4405-867c-626dba9bd9a9",
   "metadata": {},
   "outputs": [],
   "source": []
  }
 ],
 "metadata": {
  "kernelspec": {
   "display_name": "sPyNNakerJupyter",
   "language": "python",
   "name": "spynnakerjupyter"
  },
  "language_info": {
   "codemirror_mode": {
    "name": "ipython",
    "version": 3
   },
   "file_extension": ".py",
   "mimetype": "text/x-python",
   "name": "python",
   "nbconvert_exporter": "python",
   "pygments_lexer": "ipython3",
   "version": "3.8.5"
  }
 },
 "nbformat": 4,
 "nbformat_minor": 5
}
