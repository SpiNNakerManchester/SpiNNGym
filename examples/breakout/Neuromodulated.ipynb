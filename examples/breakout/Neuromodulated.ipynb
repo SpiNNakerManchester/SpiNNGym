{
 "cells": [
  {
   "cell_type": "code",
   "execution_count": null,
   "id": "a80771a6-dd7d-486f-8714-30208b083a52",
   "metadata": {},
   "outputs": [],
   "source": [
    "import pyNN.spiNNaker as p\n",
    "from spinn_gym.games.breakout.visualise_jupyter import jupyter_visualiser\n",
    "from spinn_gym.games.breakout.neuromodulated_breakout import (\n",
    "    NeuromodulatedBreakout, X_RES, X_SCALE, Y_RES, Y_SCALE)\n",
    "\n",
    "# ----------------------------------------------------------------------------------------------------------------------\n",
    "# Initialise Simulation and Parameters\n",
    "# ----------------------------------------------------------------------------------------------------------------------\n",
    "run_time_seconds = 60\n",
    "breakout = NeuromodulatedBreakout(time_scale_factor=2)\n",
    "\n",
    "# ----------------------------------------------------------------------------------------------------------------------\n",
    "# Configure Visualiser\n",
    "# ----------------------------------------------------------------------------------------------------------------------\n",
    "jupyter_visualiser(breakout, X_RES, X_SCALE, Y_RES, Y_SCALE,\n",
    "                   [breakout.paddle_pop, breakout.ball_x_pop, breakout.ball_y_pop, \n",
    "                    breakout.left_hidden_pop, breakout.right_hidden_pop, breakout.decision_input_pop])"
   ]
  },
  {
   "cell_type": "code",
   "execution_count": null,
   "id": "b773ca01-07fc-4737-b7a7-6f0d2df8fe7a",
   "metadata": {},
   "outputs": [],
   "source": [
    "# ----------------------------------------------------------------------------------------------------------------------\n",
    "# Run Simulation\n",
    "# ----------------------------------------------------------------------------------------------------------------------\n",
    "runtime = 1000 * run_time_seconds\n",
    "print(\"\\nLet\\'s play breakout!\")\n",
    "p.run(runtime)\n",
    "p.end()\n",
    "print(\"Simulation Complete\")"
   ]
  },
  {
   "cell_type": "code",
   "execution_count": null,
   "id": "6f451bc7-9dbb-4dcc-be09-80aaa4902264",
   "metadata": {},
   "outputs": [],
   "source": []
  }
 ],
 "metadata": {
  "kernelspec": {
   "display_name": "sPyNNakerGit",
   "language": "python",
   "name": "spynnakergit"
  },
  "language_info": {
   "codemirror_mode": {
    "name": "ipython",
    "version": 3
   },
   "file_extension": ".py",
   "mimetype": "text/x-python",
   "name": "python",
   "nbconvert_exporter": "python",
   "pygments_lexer": "ipython3",
   "version": "3.8.5"
  }
 },
 "nbformat": 4,
 "nbformat_minor": 5
}