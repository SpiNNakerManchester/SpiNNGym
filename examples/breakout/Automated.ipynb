{
 "cells": [
  {
   "cell_type": "code",
   "execution_count": null,
   "id": "a8134eff-e18d-4a1b-8189-e62ee40fa66a",
   "metadata": {},
   "outputs": [],
   "source": [
    "import pyNN.spiNNaker as p\n",
    "from spinn_gym.games.breakout.visualise_jupyter import jupyter_visualiser\n",
    "from spinn_gym.games.breakout.automated_breakout import (\n",
    "    AutomatedBreakout, X_RES, X_SCALE, Y_RES, Y_SCALE)\n",
    "\n",
    "# ----------------------------------------------------------------------------------------------------------------------\n",
    "# Initialise Simulation and Parameters\n",
    "# ----------------------------------------------------------------------------------------------------------------------\n",
    "run_time_seconds = 60\n",
    "breakout = AutomatedBreakout(time_scale_factor=2)\n",
    "\n",
    "# ----------------------------------------------------------------------------------------------------------------------\n",
    "# Configure Visualiser\n",
    "# ----------------------------------------------------------------------------------------------------------------------\n",
    "jupyter_visualiser(breakout, X_RES, X_SCALE, Y_RES, Y_SCALE, \n",
    "                   [breakout.paddle_pop, breakout.ball_pop, \n",
    "                    breakout.left_hidden_pop, breakout.right_hidden_pop, breakout.decision_input_pop])"
   ]
  },
  {
   "cell_type": "code",
   "execution_count": null,
   "id": "d2f7f82b-363b-4e19-b843-88d57d88d671",
   "metadata": {},
   "outputs": [],
   "source": [
    "# ----------------------------------------------------------------------------------------------------------------------\n",
    "# Run Simulation\n",
    "# ----------------------------------------------------------------------------------------------------------------------\n",
    "runtime = 1000 * run_time_seconds\n",
    "print(\"\\nLet\\'s play breakout!\")\n",
    "p.run(runtime)\n",
    "p.end()\n",
    "print(\"Simulation Complete\")"
   ]
  },
  {
   "cell_type": "code",
   "execution_count": null,
   "id": "5219a61a-4224-474b-951a-fc0b30e2c3c5",
   "metadata": {},
   "outputs": [],
   "source": []
  }
 ],
 "metadata": {
  "kernelspec": {
   "display_name": "sPyNNakerGit",
   "language": "python",
   "name": "spynnakergit"
  },
  "language_info": {
   "codemirror_mode": {
    "name": "ipython",
    "version": 3
   },
   "file_extension": ".py",
   "mimetype": "text/x-python",
   "name": "python",
   "nbconvert_exporter": "python",
   "pygments_lexer": "ipython3",
   "version": "3.8.5"
  }
 },
 "nbformat": 4,
 "nbformat_minor": 5
}