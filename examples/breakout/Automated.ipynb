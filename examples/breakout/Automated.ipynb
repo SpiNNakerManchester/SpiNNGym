{
 "cells": [
  {
   "cell_type": "code",
   "execution_count": 3,
   "id": "a3810d7e-ae16-4e18-ba2b-1e242b35a29c",
   "metadata": {},
   "outputs": [
    {
     "name": "stderr",
     "output_type": "stream",
     "text": [
      "============================\n",
      "2021-10-06 09:13:29 WARNING: Population paddle_pop is missing spike data in region 3 from the following cores: (4, 5, 16); \n",
      "Getting spikes for ball_pop\n",
      "|0%                          50%                         100%|\n",
      " ============================================================\n",
      "2021-10-06 09:13:29 WARNING: Population ball_pop is missing spike data in region 3 from the following cores: (3, 4, 16); \n",
      "Getting spikes for decision_input_pop\n",
      "|0%                          50%                         100%|\n",
      " ============================================================\n",
      "Getting gsyn_exc for receive_rew_pop\n",
      "|0%                          50%                         100%|\n",
      " ============================================================\n"
     ]
    },
    {
     "name": "stdout",
     "output_type": "stream",
     "text": [
      "Scores: [(1,), (0,), (0,), (0,), (1,), (0,), (0,), (1,), (2,), (3,), (2,), (2,), (2,), (3,), (2,), (2,), (2,), (2,), (3,), (-2,), (-2,), (-2,), (-1,), (-1,), (-1,), (-1,), (-1,), (-1,), (-1,), (-1,), (-2,), (-2,), (-2,), (-2,), (-2,), (-3,), (-3,), (-3,), (-3,), (-4,), (-4,), (-4,), (-4,), (-4,), (-9,), (-9,), (-9,), (-9,), (-10,), (-10,), (-10,), (-10,), (-10,), (-11,), (-11,), (-11,), (-11,), (-12,), (-12,), (-12,), (-12,), (-12,), (-13,), (-13,), (-13,), (-13,), (-18,), (-18,), (-18,), (-18,), (-18,), (-19,), (-19,), (-19,), (-19,), (-20,), (-20,), (-20,), (-20,), (-20,), (-21,), (-21,), (-21,), (-21,), (-22,), (-22,), (-22,), (-22,), (-22,), (-27,), (-27,), (-27,), (-27,), (-28,), (-28,), (-28,), (-28,), (-28,), (-29,), (-29,), (-29,), (-29,), (-30,), (-30,), (-30,), (-30,), (-30,), (-31,), (-31,), (-31,), (-31,), (-36,), (-36,), (-36,), (-36,), (-36,), (-37,), (-37,), (-37,)]\n"
     ]
    },
    {
     "data": {
      "application/vnd.jupyter.widget-view+json": {
       "model_id": "2da3d5aa432f4708985d4e0b64bd27ad",
       "version_major": 2,
       "version_minor": 0
      },
      "text/plain": [
       "Canvas(toolbar=Toolbar(toolitems=[('Home', 'Reset original view', 'home', 'home'), ('Back', 'Back to previous …"
      ]
     },
     "metadata": {},
     "output_type": "display_data"
    },
    {
     "name": "stdout",
     "output_type": "stream",
     "text": [
      "Simulation Complete\n"
     ]
    }
   ],
   "source": [
    "from __future__ import print_function\n",
    "\n",
    "import functools\n",
    "import threading\n",
    "import matplotlib.pyplot as plt\n",
    "import numpy as np\n",
    "import time\n",
    "from pyNN.utility.plotting import Figure, Panel\n",
    "\n",
    "import spynnaker8 as p\n",
    "from spinn_gym.games.breakout.breakout_sim import (\n",
    "    get_scores, start_external_visualiser)\n",
    "from spinn_gym.games.breakout.automated_breakout import (\n",
    "    AutomatedBreakout, X_RES, X_SCALE, Y_RES, Y_SCALE)\n",
    "from spinn_gym.games.breakout.visualiser.visualiser import Visualiser\n",
    "from spinn_front_end_common.utilities.globals_variables import get_simulator\n",
    "\n",
    "from IPython import display\n",
    "\n",
    "def start_vis_thread(database, pop_label, xr, yr, xb=8, yb=8, key_conn=None):\n",
    "    global board_address\n",
    "    global tag\n",
    "    \n",
    "    print(\"start_vis_thread\")\n",
    "    \n",
    "    _, _, _, board_address, tag = database.get_live_output_details(\n",
    "        pop_label, \"LiveSpikeReceiver\")\n",
    "    \n",
    "    print(\"board_address, tag: \", board_address, tag)\n",
    "    \n",
    "    vis_thread = threading.Thread(target=start_visualiser, \n",
    "                                  args=[board_address, tag, pop_label, xr, yr, xb, yb, key_conn])\n",
    "    \n",
    "    vis_thread.start()\n",
    "\n",
    "    \n",
    "def start_visualiser(board_address, tag, pop_label, xr, yr, xb=8, yb=8, key_conn=None):\n",
    "        \n",
    "    print(\"Calling \\'start_visualiser\\'\")\n",
    "\n",
    "    # Create visualiser\n",
    "    # set_matplotlib_formats('png')\n",
    "    vis = Visualiser(machine_address=board_address, tag=tag, x_factor=2, y_factor=2,\n",
    "                     x_bits=xb, y_bits=yb)\n",
    "    print(\"\\nDisplaying visualiser\")\n",
    "    # Still testing whether it's possible to open the visualiser in a new cell\n",
    "    # display(Javascript(\"Jupyter.notebook.execute_cells_below()\"))\n",
    "    vis.show()\n",
    "    print(\"...awaiting game signals\")\n",
    "\n",
    "    refresh_time = 0.001\n",
    "    while True:\n",
    "#        print(\"updating...\")\n",
    "        score = vis._update(None)\n",
    "#         plt.draw()  # \"draw\" is done in vis._update \n",
    "#         plt.pause(0.001)  # pause doesn't work, so use time.sleep(...)\n",
    "        display.display(plt.gcf())\n",
    "        display.clear_output(wait=True)\n",
    "        time.sleep(refresh_time)\n",
    "        \n",
    "    print(\"visualiser gets to here?\")\n",
    "\n",
    "\n",
    "# ----------------------------------------------------------------------------------------------------------------------\n",
    "# Initialise Simulation and Parameters\n",
    "# ----------------------------------------------------------------------------------------------------------------------\n",
    "\n",
    "breakout = AutomatedBreakout()\n",
    "\n",
    "# ----------------------------------------------------------------------------------------------------------------------\n",
    "# Configure Visualiser\n",
    "# ----------------------------------------------------------------------------------------------------------------------\n",
    "key_input_connection = p.external_devices.SpynnakerLiveSpikesConnection(\n",
    "    send_labels=[breakout.key_input.label], local_port=None)\n",
    "\n",
    "print(\"\\nRegister visualiser process\")\n",
    "key_input_connection.add_database_callback(functools.partial(\n",
    "    start_vis_thread, pop_label=breakout.breakout_pop.label,\n",
    "    xr=X_SCALE, yr=Y_SCALE,\n",
    "    xb=np.uint32(np.ceil(np.log2(X_RES / X_SCALE))),\n",
    "    yb=np.uint32(np.ceil(np.log2(Y_RES / Y_SCALE))),\n",
    "    key_conn=key_input_connection))\n",
    "\n",
    "p.external_devices.add_database_socket_address(\n",
    "    \"localhost\", key_input_connection.local_port, None)\n",
    "\n",
    "# ----------------------------------------------------------------------------------------------------------------------\n",
    "# Run Simulation\n",
    "# ----------------------------------------------------------------------------------------------------------------------\n",
    "\n",
    "runtime = 1000 * 120\n",
    "simulator = get_simulator()\n",
    "print(\"\\nLet\\'s play breakout!\")\n",
    "p.run(runtime)\n",
    "\n",
    "# End simulation\n",
    "p.end()\n",
    "print(\"Simulation Complete\")\n"
   ]
  },
  {
   "cell_type": "code",
   "execution_count": null,
   "id": "6f451bc7-9dbb-4dcc-be09-80aaa4902264",
   "metadata": {},
   "outputs": [],
   "source": []
  },
  {
   "cell_type": "code",
   "execution_count": null,
   "id": "6520eb37-d110-4405-867c-626dba9bd9a9",
   "metadata": {},
   "outputs": [],
   "source": []
  }
 ],
 "metadata": {
  "kernelspec": {
   "display_name": "sPyNNakerGit",
   "language": "python",
   "name": "spynnakergit"
  },
  "language_info": {
   "codemirror_mode": {
    "name": "ipython",
    "version": 3
   },
   "file_extension": ".py",
   "mimetype": "text/x-python",
   "name": "python",
   "nbconvert_exporter": "python",
   "pygments_lexer": "ipython3",
   "version": "3.8.5"
  }
 },
 "nbformat": 4,
 "nbformat_minor": 5
}
